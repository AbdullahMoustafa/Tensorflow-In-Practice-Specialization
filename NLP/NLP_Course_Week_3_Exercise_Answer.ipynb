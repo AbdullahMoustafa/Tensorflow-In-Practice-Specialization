{
  "nbformat": 4,
  "nbformat_minor": 0,
  "metadata": {
    "accelerator": "GPU",
    "colab": {
      "name": "NLP Course - Week 3 Exercise Answer.ipynb",
      "provenance": [],
      "toc_visible": true
    },
    "kernelspec": {
      "display_name": "Python 3",
      "name": "python3"
    }
  },
  "cells": [
    {
      "cell_type": "code",
      "metadata": {
        "id": "zX4Kg8DUTKWO",
        "colab_type": "code",
        "colab": {}
      },
      "source": [
        "#@title Licensed under the Apache License, Version 2.0 (the \"License\");\n",
        "# you may not use this file except in compliance with the License.\n",
        "# You may obtain a copy of the License at\n",
        "#\n",
        "# https://www.apache.org/licenses/LICENSE-2.0\n",
        "#\n",
        "# Unless required by applicable law or agreed to in writing, software\n",
        "# distributed under the License is distributed on an \"AS IS\" BASIS,\n",
        "# WITHOUT WARRANTIES OR CONDITIONS OF ANY KIND, either express or implied.\n",
        "# See the License for the specific language governing permissions and\n",
        "# limitations under the License."
      ],
      "execution_count": 0,
      "outputs": []
    },
    {
      "cell_type": "code",
      "metadata": {
        "colab_type": "code",
        "id": "hmA6EzkQJ5jt",
        "colab": {}
      },
      "source": [
        "import json\n",
        "import tensorflow as tf\n",
        "import csv\n",
        "import random\n",
        "import numpy as np\n",
        "\n",
        "from tensorflow.keras.preprocessing.text import Tokenizer\n",
        "from tensorflow.keras.preprocessing.sequence import pad_sequences\n",
        "from tensorflow.keras.utils import to_categorical\n",
        "from tensorflow.keras import regularizers\n",
        "\n",
        "\n",
        "embedding_dim = 100\n",
        "max_length = 16\n",
        "trunc_type='post'\n",
        "padding_type='post'\n",
        "oov_tok = \"<OOV>\"\n",
        "training_size=160000\n",
        "test_portion=.1\n",
        "\n",
        "corpus = []\n"
      ],
      "execution_count": 0,
      "outputs": []
    },
    {
      "cell_type": "code",
      "metadata": {
        "colab_type": "code",
        "id": "bM0l_dORKqE0",
        "outputId": "e50a74ff-df24-49b7-ec4a-96b5c1dbd633",
        "colab": {
          "base_uri": "https://localhost:8080/",
          "height": 212
        }
      },
      "source": [
        "# Note that I cleaned the Stanford dataset to remove LATIN1 encoding to make it easier for Python CSV reader\n",
        "# You can do that yourself with:\n",
        "# iconv -f LATIN1 -t UTF8 training.1600000.processed.noemoticon.csv -o training_cleaned.csv\n",
        "# I then hosted it on my site to make it easier to use in this notebook\n",
        "\n",
        "!wget --no-check-certificate \\\n",
        "    https://storage.googleapis.com/laurencemoroney-blog.appspot.com/training_cleaned.csv \\\n",
        "    -O /tmp/training_cleaned.csv\n",
        "\n",
        "num_sentences = 0\n",
        "\n",
        "with open(\"/tmp/training_cleaned.csv\") as csvfile:\n",
        "    reader = csv.reader(csvfile, delimiter=',')\n",
        "    for row in reader:\n",
        "        list_item=[]\n",
        "        list_item.append(row[5])\n",
        "        this_label=row[0]\n",
        "        if this_label=='0':\n",
        "            list_item.append(0)\n",
        "        else:\n",
        "            list_item.append(1)\n",
        "        num_sentences = num_sentences + 1\n",
        "        corpus.append(list_item)\n"
      ],
      "execution_count": 3,
      "outputs": [
        {
          "output_type": "stream",
          "text": [
            "--2020-04-09 02:53:52--  https://storage.googleapis.com/laurencemoroney-blog.appspot.com/training_cleaned.csv\n",
            "Resolving storage.googleapis.com (storage.googleapis.com)... 64.233.184.128, 2a00:1450:400c:c0b::80\n",
            "Connecting to storage.googleapis.com (storage.googleapis.com)|64.233.184.128|:443... connected.\n",
            "HTTP request sent, awaiting response... 200 OK\n",
            "Length: 238942690 (228M) [application/octet-stream]\n",
            "Saving to: ‘/tmp/training_cleaned.csv’\n",
            "\n",
            "/tmp/training_clean 100%[===================>] 227.87M  82.0MB/s    in 2.8s    \n",
            "\n",
            "2020-04-09 02:53:55 (82.0 MB/s) - ‘/tmp/training_cleaned.csv’ saved [238942690/238942690]\n",
            "\n"
          ],
          "name": "stdout"
        }
      ]
    },
    {
      "cell_type": "code",
      "metadata": {
        "colab_type": "code",
        "id": "3kxblBUjEUX-",
        "outputId": "5853e238-b2ff-49a0-bc58-64ce1b97fce9",
        "colab": {
          "base_uri": "https://localhost:8080/",
          "height": 70
        }
      },
      "source": [
        "print(num_sentences)\n",
        "print(len(corpus))\n",
        "print(corpus[1])\n",
        "\n",
        "# Expected Output:\n",
        "# 1600000\n",
        "# 1600000\n",
        "# [\"is upset that he can't update his Facebook by texting it... and might cry as a result  School today also. Blah!\", 0]"
      ],
      "execution_count": 4,
      "outputs": [
        {
          "output_type": "stream",
          "text": [
            "1600000\n",
            "1600000\n",
            "[\"is upset that he can't update his Facebook by texting it... and might cry as a result  School today also. Blah!\", 0]\n"
          ],
          "name": "stdout"
        }
      ]
    },
    {
      "cell_type": "code",
      "metadata": {
        "colab_type": "code",
        "id": "ohOGz24lsNAD",
        "colab": {}
      },
      "source": [
        "import numpy as np\n",
        "\n",
        "sentences=[]\n",
        "labels=[]\n",
        "random.shuffle(corpus)\n",
        "for x in range(training_size):\n",
        "    sentences.append(corpus[x][0])\n",
        "    labels.append(corpus[x][1])\n",
        "\n",
        "\n",
        "tokenizer = Tokenizer()\n",
        "tokenizer.fit_on_texts(sentences)\n",
        "\n",
        "word_index = tokenizer.word_index\n",
        "vocab_size=len(word_index)\n",
        "\n",
        "sequences = tokenizer.texts_to_sequences(sentences)\n",
        "padded = pad_sequences(sequences, maxlen=max_length, padding=padding_type, truncating=trunc_type)\n",
        "\n",
        "split = int(test_portion * training_size)\n",
        "\n",
        "test_sequences = padded[0:split]\n",
        "test_sequences = np.array(test_sequences)\n",
        "\n",
        "training_sequences = padded[split:training_size]\n",
        "training_sequences = np.array(training_sequences)\n",
        "\n",
        "test_labels = labels[0:split]\n",
        "test_labels = np.array(test_labels)\n",
        "\n",
        "training_labels = labels[split:training_size]\n",
        "training_labels = np.array(training_labels)\n"
      ],
      "execution_count": 0,
      "outputs": []
    },
    {
      "cell_type": "code",
      "metadata": {
        "colab_type": "code",
        "id": "gIrtRem1En3N",
        "outputId": "04bb647d-b232-4722-d086-0437884e3ed9",
        "colab": {
          "base_uri": "https://localhost:8080/",
          "height": 52
        }
      },
      "source": [
        "print(vocab_size)\n",
        "print(word_index['i'])\n",
        "# Expected Output\n",
        "# 138858\n",
        "# 1"
      ],
      "execution_count": 16,
      "outputs": [
        {
          "output_type": "stream",
          "text": [
            "138105\n",
            "1\n"
          ],
          "name": "stdout"
        }
      ]
    },
    {
      "cell_type": "code",
      "metadata": {
        "colab_type": "code",
        "id": "C1zdgJkusRh0",
        "outputId": "f5144ee6-1ee1-429b-c7be-f505d9fe7585",
        "colab": {
          "base_uri": "https://localhost:8080/",
          "height": 212
        }
      },
      "source": [
        "# Note this is the 100 dimension version of GloVe from Stanford\n",
        "# I unzipped and hosted it on my site to make this notebook easier\n",
        "!wget --no-check-certificate \\\n",
        "    https://storage.googleapis.com/laurencemoroney-blog.appspot.com/glove.6B.100d.txt \\\n",
        "    -O /tmp/glove.6B.100d.txt\n",
        "embeddings_index = {};\n",
        "with open('/tmp/glove.6B.100d.txt') as f:\n",
        "    for line in f:\n",
        "        values = line.split();\n",
        "        word = values[0];\n",
        "        coefs = np.asarray(values[1:], dtype='float32');\n",
        "        embeddings_index[word] = coefs;\n",
        "\n",
        "embeddings_matrix = np.zeros((vocab_size+1, embedding_dim));\n",
        "for word, i in word_index.items():\n",
        "    embedding_vector = embeddings_index.get(word);\n",
        "    if embedding_vector is not None:\n",
        "        embeddings_matrix[i] = embedding_vector;"
      ],
      "execution_count": 17,
      "outputs": [
        {
          "output_type": "stream",
          "text": [
            "--2020-04-09 03:07:29--  https://storage.googleapis.com/laurencemoroney-blog.appspot.com/glove.6B.100d.txt\n",
            "Resolving storage.googleapis.com (storage.googleapis.com)... 74.125.133.128, 2a00:1450:400c:c06::80\n",
            "Connecting to storage.googleapis.com (storage.googleapis.com)|74.125.133.128|:443... connected.\n",
            "HTTP request sent, awaiting response... 200 OK\n",
            "Length: 347116733 (331M) [text/plain]\n",
            "Saving to: ‘/tmp/glove.6B.100d.txt’\n",
            "\n",
            "/tmp/glove.6B.100d. 100%[===================>] 331.04M  75.4MB/s    in 4.4s    \n",
            "\n",
            "2020-04-09 03:07:34 (75.4 MB/s) - ‘/tmp/glove.6B.100d.txt’ saved [347116733/347116733]\n",
            "\n"
          ],
          "name": "stdout"
        }
      ]
    },
    {
      "cell_type": "code",
      "metadata": {
        "colab_type": "code",
        "id": "71NLk_lpFLNt",
        "outputId": "ed70b258-1431-4795-ea4f-63bb544199fb",
        "colab": {
          "base_uri": "https://localhost:8080/",
          "height": 34
        }
      },
      "source": [
        "print(len(embeddings_matrix))\n",
        "# Expected Output\n",
        "# 138859"
      ],
      "execution_count": 18,
      "outputs": [
        {
          "output_type": "stream",
          "text": [
            "138106\n"
          ],
          "name": "stdout"
        }
      ]
    },
    {
      "cell_type": "code",
      "metadata": {
        "colab_type": "code",
        "id": "iKKvbuEBOGFz",
        "colab": {
          "base_uri": "https://localhost:8080/",
          "height": 1000
        },
        "outputId": "f0635e95-447f-4b41-b00a-652f1a9b622f"
      },
      "source": [
        "model = tf.keras.Sequential([\n",
        "    tf.keras.layers.Embedding(vocab_size+1, embedding_dim, input_length=max_length, weights=[embeddings_matrix], trainable=False),\n",
        "    tf.keras.layers.Dropout(0.2),\n",
        "    tf.keras.layers.Conv1D(64, 5, activation='relu'),\n",
        "    tf.keras.layers.MaxPooling1D(pool_size=4),\n",
        "    tf.keras.layers.LSTM(64),\n",
        "    tf.keras.layers.Dense(1, activation='sigmoid')\n",
        "])\n",
        "model.compile(loss='binary_crossentropy',optimizer='adam',metrics=['accuracy'])\n",
        "model.summary()\n",
        "\n",
        "num_epochs = 50\n",
        "history = model.fit(training_sequences, training_labels, epochs=num_epochs, validation_data=(test_sequences, test_labels), verbose=2)\n",
        "\n",
        "print(\"Training Complete\")\n"
      ],
      "execution_count": 19,
      "outputs": [
        {
          "output_type": "stream",
          "text": [
            "Model: \"sequential_3\"\n",
            "_________________________________________________________________\n",
            "Layer (type)                 Output Shape              Param #   \n",
            "=================================================================\n",
            "embedding_3 (Embedding)      (None, 16, 100)           13810600  \n",
            "_________________________________________________________________\n",
            "dropout_3 (Dropout)          (None, 16, 100)           0         \n",
            "_________________________________________________________________\n",
            "conv1d_3 (Conv1D)            (None, 12, 64)            32064     \n",
            "_________________________________________________________________\n",
            "max_pooling1d_3 (MaxPooling1 (None, 3, 64)             0         \n",
            "_________________________________________________________________\n",
            "lstm_3 (LSTM)                (None, 64)                33024     \n",
            "_________________________________________________________________\n",
            "dense_3 (Dense)              (None, 1)                 65        \n",
            "=================================================================\n",
            "Total params: 13,875,753\n",
            "Trainable params: 65,153\n",
            "Non-trainable params: 13,810,600\n",
            "_________________________________________________________________\n",
            "Epoch 1/50\n",
            "4500/4500 - 20s - loss: 0.5675 - accuracy: 0.6998 - val_loss: 0.5159 - val_accuracy: 0.7397\n",
            "Epoch 2/50\n",
            "4500/4500 - 20s - loss: 0.5267 - accuracy: 0.7324 - val_loss: 0.5049 - val_accuracy: 0.7487\n",
            "Epoch 3/50\n",
            "4500/4500 - 20s - loss: 0.5116 - accuracy: 0.7418 - val_loss: 0.5049 - val_accuracy: 0.7502\n",
            "Epoch 4/50\n",
            "4500/4500 - 20s - loss: 0.5004 - accuracy: 0.7503 - val_loss: 0.4941 - val_accuracy: 0.7573\n",
            "Epoch 5/50\n",
            "4500/4500 - 20s - loss: 0.4914 - accuracy: 0.7565 - val_loss: 0.4922 - val_accuracy: 0.7587\n",
            "Epoch 6/50\n",
            "4500/4500 - 21s - loss: 0.4845 - accuracy: 0.7618 - val_loss: 0.4894 - val_accuracy: 0.7596\n",
            "Epoch 7/50\n",
            "4500/4500 - 20s - loss: 0.4788 - accuracy: 0.7654 - val_loss: 0.4989 - val_accuracy: 0.7538\n",
            "Epoch 8/50\n",
            "4500/4500 - 20s - loss: 0.4730 - accuracy: 0.7703 - val_loss: 0.4956 - val_accuracy: 0.7573\n",
            "Epoch 9/50\n",
            "4500/4500 - 20s - loss: 0.4693 - accuracy: 0.7715 - val_loss: 0.4924 - val_accuracy: 0.7569\n",
            "Epoch 10/50\n",
            "4500/4500 - 20s - loss: 0.4653 - accuracy: 0.7755 - val_loss: 0.4986 - val_accuracy: 0.7552\n",
            "Epoch 11/50\n",
            "4500/4500 - 20s - loss: 0.4619 - accuracy: 0.7755 - val_loss: 0.4997 - val_accuracy: 0.7577\n",
            "Epoch 12/50\n",
            "4500/4500 - 20s - loss: 0.4581 - accuracy: 0.7790 - val_loss: 0.4964 - val_accuracy: 0.7546\n",
            "Epoch 13/50\n",
            "4500/4500 - 20s - loss: 0.4556 - accuracy: 0.7798 - val_loss: 0.4964 - val_accuracy: 0.7578\n",
            "Epoch 14/50\n",
            "4500/4500 - 20s - loss: 0.4538 - accuracy: 0.7821 - val_loss: 0.5068 - val_accuracy: 0.7539\n",
            "Epoch 15/50\n",
            "4500/4500 - 20s - loss: 0.4509 - accuracy: 0.7820 - val_loss: 0.5017 - val_accuracy: 0.7539\n",
            "Epoch 16/50\n",
            "4500/4500 - 20s - loss: 0.4503 - accuracy: 0.7832 - val_loss: 0.5003 - val_accuracy: 0.7585\n",
            "Epoch 17/50\n",
            "4500/4500 - 20s - loss: 0.4491 - accuracy: 0.7850 - val_loss: 0.4972 - val_accuracy: 0.7585\n",
            "Epoch 18/50\n",
            "4500/4500 - 20s - loss: 0.4473 - accuracy: 0.7847 - val_loss: 0.5002 - val_accuracy: 0.7554\n",
            "Epoch 19/50\n",
            "4500/4500 - 20s - loss: 0.4454 - accuracy: 0.7860 - val_loss: 0.5037 - val_accuracy: 0.7535\n",
            "Epoch 20/50\n",
            "4500/4500 - 20s - loss: 0.4428 - accuracy: 0.7878 - val_loss: 0.4974 - val_accuracy: 0.7573\n",
            "Epoch 21/50\n",
            "4500/4500 - 20s - loss: 0.4431 - accuracy: 0.7873 - val_loss: 0.5010 - val_accuracy: 0.7526\n",
            "Epoch 22/50\n",
            "4500/4500 - 20s - loss: 0.4404 - accuracy: 0.7887 - val_loss: 0.5065 - val_accuracy: 0.7551\n",
            "Epoch 23/50\n",
            "4500/4500 - 20s - loss: 0.4405 - accuracy: 0.7888 - val_loss: 0.5046 - val_accuracy: 0.7550\n",
            "Epoch 24/50\n",
            "4500/4500 - 20s - loss: 0.4394 - accuracy: 0.7899 - val_loss: 0.4974 - val_accuracy: 0.7559\n",
            "Epoch 25/50\n",
            "4500/4500 - 20s - loss: 0.4379 - accuracy: 0.7899 - val_loss: 0.5034 - val_accuracy: 0.7519\n",
            "Epoch 26/50\n",
            "4500/4500 - 20s - loss: 0.4372 - accuracy: 0.7909 - val_loss: 0.5075 - val_accuracy: 0.7531\n",
            "Epoch 27/50\n",
            "4500/4500 - 20s - loss: 0.4372 - accuracy: 0.7918 - val_loss: 0.5062 - val_accuracy: 0.7520\n",
            "Epoch 28/50\n",
            "4500/4500 - 20s - loss: 0.4370 - accuracy: 0.7902 - val_loss: 0.5066 - val_accuracy: 0.7551\n",
            "Epoch 29/50\n",
            "4500/4500 - 20s - loss: 0.4356 - accuracy: 0.7911 - val_loss: 0.5120 - val_accuracy: 0.7561\n",
            "Epoch 30/50\n",
            "4500/4500 - 20s - loss: 0.4345 - accuracy: 0.7929 - val_loss: 0.5092 - val_accuracy: 0.7521\n",
            "Epoch 31/50\n",
            "4500/4500 - 20s - loss: 0.4355 - accuracy: 0.7923 - val_loss: 0.5101 - val_accuracy: 0.7559\n",
            "Epoch 32/50\n",
            "4500/4500 - 20s - loss: 0.4324 - accuracy: 0.7936 - val_loss: 0.5093 - val_accuracy: 0.7515\n",
            "Epoch 33/50\n",
            "4500/4500 - 20s - loss: 0.4321 - accuracy: 0.7950 - val_loss: 0.5148 - val_accuracy: 0.7536\n",
            "Epoch 34/50\n",
            "4500/4500 - 20s - loss: 0.4324 - accuracy: 0.7943 - val_loss: 0.5083 - val_accuracy: 0.7546\n",
            "Epoch 35/50\n",
            "4500/4500 - 20s - loss: 0.4323 - accuracy: 0.7947 - val_loss: 0.5080 - val_accuracy: 0.7516\n",
            "Epoch 36/50\n",
            "4500/4500 - 20s - loss: 0.4303 - accuracy: 0.7940 - val_loss: 0.5095 - val_accuracy: 0.7541\n",
            "Epoch 37/50\n",
            "4500/4500 - 21s - loss: 0.4304 - accuracy: 0.7957 - val_loss: 0.5135 - val_accuracy: 0.7497\n",
            "Epoch 38/50\n",
            "4500/4500 - 20s - loss: 0.4307 - accuracy: 0.7945 - val_loss: 0.5105 - val_accuracy: 0.7536\n",
            "Epoch 39/50\n",
            "4500/4500 - 20s - loss: 0.4296 - accuracy: 0.7968 - val_loss: 0.5095 - val_accuracy: 0.7552\n",
            "Epoch 40/50\n",
            "4500/4500 - 20s - loss: 0.4306 - accuracy: 0.7954 - val_loss: 0.5077 - val_accuracy: 0.7519\n",
            "Epoch 41/50\n",
            "4500/4500 - 20s - loss: 0.4297 - accuracy: 0.7960 - val_loss: 0.5129 - val_accuracy: 0.7505\n",
            "Epoch 42/50\n",
            "4500/4500 - 20s - loss: 0.4299 - accuracy: 0.7955 - val_loss: 0.5108 - val_accuracy: 0.7564\n",
            "Epoch 43/50\n",
            "4500/4500 - 20s - loss: 0.4288 - accuracy: 0.7964 - val_loss: 0.5102 - val_accuracy: 0.7548\n",
            "Epoch 44/50\n",
            "4500/4500 - 20s - loss: 0.4280 - accuracy: 0.7953 - val_loss: 0.5082 - val_accuracy: 0.7538\n",
            "Epoch 45/50\n",
            "4500/4500 - 20s - loss: 0.4282 - accuracy: 0.7968 - val_loss: 0.5080 - val_accuracy: 0.7519\n",
            "Epoch 46/50\n",
            "4500/4500 - 20s - loss: 0.4284 - accuracy: 0.7960 - val_loss: 0.5144 - val_accuracy: 0.7525\n",
            "Epoch 47/50\n",
            "4500/4500 - 20s - loss: 0.4282 - accuracy: 0.7968 - val_loss: 0.5097 - val_accuracy: 0.7518\n",
            "Epoch 48/50\n",
            "4500/4500 - 20s - loss: 0.4282 - accuracy: 0.7968 - val_loss: 0.5104 - val_accuracy: 0.7514\n",
            "Epoch 49/50\n",
            "4500/4500 - 20s - loss: 0.4278 - accuracy: 0.7970 - val_loss: 0.5197 - val_accuracy: 0.7553\n",
            "Epoch 50/50\n",
            "4500/4500 - 20s - loss: 0.4277 - accuracy: 0.7963 - val_loss: 0.5093 - val_accuracy: 0.7519\n",
            "Training Complete\n"
          ],
          "name": "stdout"
        }
      ]
    },
    {
      "cell_type": "code",
      "metadata": {
        "colab_type": "code",
        "id": "qxju4ItJKO8F",
        "colab": {
          "base_uri": "https://localhost:8080/",
          "height": 608
        },
        "outputId": "05c84cf6-d2a7-433d-f1f7-7a37fdf46633"
      },
      "source": [
        "import matplotlib.image  as mpimg\n",
        "import matplotlib.pyplot as plt\n",
        "\n",
        "#-----------------------------------------------------------\n",
        "# Retrieve a list of list results on training and test data\n",
        "# sets for each training epoch\n",
        "#-----------------------------------------------------------\n",
        "acc=history.history['accuracy']\n",
        "val_acc=history.history['val_accuracy']\n",
        "loss=history.history['loss']\n",
        "val_loss=history.history['val_loss']\n",
        "\n",
        "epochs=range(len(acc)) # Get number of epochs\n",
        "\n",
        "#------------------------------------------------\n",
        "# Plot training and validation accuracy per epoch\n",
        "#------------------------------------------------\n",
        "plt.plot(epochs, acc, 'r')\n",
        "plt.plot(epochs, val_acc, 'b')\n",
        "plt.title('Training and validation accuracy')\n",
        "plt.xlabel(\"Epochs\")\n",
        "plt.ylabel(\"Accuracy\")\n",
        "plt.legend([\"Accuracy\", \"Validation Accuracy\"])\n",
        "\n",
        "plt.figure()\n",
        "\n",
        "#------------------------------------------------\n",
        "# Plot training and validation loss per epoch\n",
        "#------------------------------------------------\n",
        "plt.plot(epochs, loss, 'r')\n",
        "plt.plot(epochs, val_loss, 'b')\n",
        "plt.title('Training and validation loss')\n",
        "plt.xlabel(\"Epochs\")\n",
        "plt.ylabel(\"Loss\")\n",
        "plt.legend([\"Loss\", \"Validation Loss\"])\n",
        "\n",
        "plt.figure()\n",
        "\n",
        "\n",
        "# Expected Output\n",
        "# A chart where the validation loss does not increase sharply!"
      ],
      "execution_count": 20,
      "outputs": [
        {
          "output_type": "execute_result",
          "data": {
            "text/plain": [
              "<Figure size 432x288 with 0 Axes>"
            ]
          },
          "metadata": {
            "tags": []
          },
          "execution_count": 20
        },
        {
          "output_type": "display_data",
          "data": {
            "image/png": "[encoded data removed]",
            "text/plain": [
              "<Figure size 432x288 with 1 Axes>"
            ]
          },
          "metadata": {
            "tags": []
          }
        },
        {
          "output_type": "display_data",
          "data": {
            "image/png": "[encoded data removed]",
            "text/plain": [
              "<Figure size 432x288 with 1 Axes>"
            ]
          },
          "metadata": {
            "tags": []
          }
        },
        {
          "output_type": "display_data",
          "data": {
            "text/plain": [
              "<Figure size 432x288 with 0 Axes>"
            ]
          },
          "metadata": {
            "tags": []
          }
        }
      ]
    }
  ]
}